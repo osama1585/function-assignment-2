{
 "cells": [
  {
   "cell_type": "markdown",
   "id": "026fa8dc-e275-4259-b2f3-186f3399897a",
   "metadata": {},
   "source": [
    "ASSIGNMENT 2\n"
   ]
  },
  {
   "cell_type": "markdown",
   "id": "3944ebf8-2a4f-4766-a37b-4b4242ef69cb",
   "metadata": {},
   "source": [
    "Q1. Create a python program to sort the given list of tuples based on integer value using a\n",
    "lambda function.\n",
    "[('Sachin Tendulkar', 34357), ('Ricky Ponting', 27483), ('Jack Kallis', 25534), ('Virat Kohli', 24936)]"
   ]
  },
  {
   "cell_type": "markdown",
   "id": "9126a151-6ccd-493b-97a8-c790a3f5d2fe",
   "metadata": {},
   "source": [
    "Ans-"
   ]
  },
  {
   "cell_type": "code",
   "execution_count": 1,
   "id": "d43d11bc-f5f1-48d5-9039-dd0d506cc754",
   "metadata": {},
   "outputs": [
    {
     "name": "stdout",
     "output_type": "stream",
     "text": [
      "list based on runs:\n",
      "Virat Kohli , 24936\n",
      "Jack Kallis , 25534\n",
      "Ricky Ponting , 27483\n",
      "Sachin Tendulkar , 34357\n"
     ]
    }
   ],
   "source": [
    "def main():\n",
    "    my_list = [('Sachin Tendulkar', 34357), ('Ricky Ponting', 27483), ('Jack Kallis', 25534), ('Virat Kohli', 24936)]\n",
    "\n",
    "   \n",
    "    sort = sorted(my_list, key=lambda x: x[1])\n",
    "\n",
    "   \n",
    "    print(\"list based on runs:\")\n",
    "    for player , runs in sort:\n",
    "        print(f\"{player} , {runs}\")\n",
    "\n",
    "if __name__ == \"__main__\":\n",
    "    main()\n"
   ]
  },
  {
   "cell_type": "markdown",
   "id": "80804649-5bce-4aec-9a3e-23596315165d",
   "metadata": {},
   "source": [
    "Q2. Write a Python Program to find the squares of all the numbers in the given list of integers using\n",
    "lambda and map functions.\n",
    "[1, 2, 3, 4, 5, 6, 7, 8, 9, 10]"
   ]
  },
  {
   "cell_type": "markdown",
   "id": "753f5898-a2a3-4c9e-9bb4-eef1ef261def",
   "metadata": {},
   "source": [
    "Ans-"
   ]
  },
  {
   "cell_type": "code",
   "execution_count": 13,
   "id": "5a07bf41-70eb-44dc-a44e-cee54247eb4e",
   "metadata": {},
   "outputs": [
    {
     "name": "stdout",
     "output_type": "stream",
     "text": [
      "[1, 4, 9, 16, 25, 36, 49, 64, 81, 100]\n"
     ]
    }
   ],
   "source": [
    "num = [1,2,3,4,5,6,7,8,9,10]\n",
    "square=list(map(lambda x:x**2 , num))\n",
    "print(square)\n",
    "\n"
   ]
  },
  {
   "cell_type": "markdown",
   "id": "31f0fc59-4b64-46f1-9404-cedb79aafc14",
   "metadata": {},
   "source": [
    "Q3. Write a python program to convert the given list of integers into a tuple of strings. Use map and\n",
    "lambda functions\n",
    "Given String: [1, 2, 3, 4, 5, 6, 7, 8, 9, 10]\n",
    "Expected output: ('1', '2', '3', '4', '5', '6', '7', '8', '9', '10')"
   ]
  },
  {
   "cell_type": "markdown",
   "id": "d60bd0a4-fba7-4656-b6d8-9bcd2cfe3c5b",
   "metadata": {},
   "source": [
    "Ans-"
   ]
  },
  {
   "cell_type": "code",
   "execution_count": 34,
   "id": "e68075f6-5a65-429c-814e-1b42f205bf91",
   "metadata": {},
   "outputs": [
    {
     "name": "stdout",
     "output_type": "stream",
     "text": [
      "('1', '2', '3', '4', '5', '6', '7', '8', '9', '10')\n"
     ]
    }
   ],
   "source": [
    "int_list=[1,2,3,4,5,6,7,8,9,10]\n",
    "tuple_list= tuple(map(lambda num:str(num) , int_list))\n",
    "print(tuple_list)"
   ]
  },
  {
   "cell_type": "markdown",
   "id": "50fc594b-41f5-4dcd-9985-4eae8b70199e",
   "metadata": {},
   "source": [
    "Q4. Write a python program using reduce function to compute the product of a list containing numbers\n",
    "from 1 to 25."
   ]
  },
  {
   "cell_type": "markdown",
   "id": "cff69151-eb70-4f57-9879-94ca8b9e4e5c",
   "metadata": {},
   "source": [
    "Ans-"
   ]
  },
  {
   "cell_type": "code",
   "execution_count": 1,
   "id": "228bddd0-8344-4e95-9113-d80125bc2c27",
   "metadata": {},
   "outputs": [
    {
     "name": "stdout",
     "output_type": "stream",
     "text": [
      "15511210043330985984000000\n"
     ]
    }
   ],
   "source": [
    "from functools import reduce\n",
    "p_of_list = [1,2,3,4,5,6,7,8,9,10,11,12,13,14,15,16,17,18,19,20,21,22,23,24,25]\n",
    "\n",
    "product =reduce(lambda x,y:x*y , p_of_list)\n",
    "print(product)"
   ]
  },
  {
   "cell_type": "markdown",
   "id": "4b100e23-c4f1-4b09-8000-45c7416dbc53",
   "metadata": {},
   "source": [
    "Q5. Write a python program to filter the numbers in a given list that are divisible by 2 and 3 using the\n",
    "filter function.\n",
    "[2, 3, 6, 9, 27, 60, 90, 120, 55, 46]"
   ]
  },
  {
   "cell_type": "markdown",
   "id": "87aaede5-25e9-4ad0-8916-f1a25d9b7004",
   "metadata": {},
   "source": [
    "Ans-"
   ]
  },
  {
   "cell_type": "code",
   "execution_count": 30,
   "id": "ef3cac8c-4650-4fed-8958-b2fe1a4c5d74",
   "metadata": {},
   "outputs": [
    {
     "name": "stdout",
     "output_type": "stream",
     "text": [
      "[6, 60, 90, 120]\n"
     ]
    }
   ],
   "source": [
    "my_list = [2,3,6,9,27,60,90,120]\n",
    "\n",
    "divi_2_3 =list(filter(lambda num :num %2 == 0 and num%3 ==0, my_list))\n",
    "print(divi_2_3)\n"
   ]
  },
  {
   "cell_type": "markdown",
   "id": "ca10c6a4-e5be-43a4-a243-524f329ce03f",
   "metadata": {},
   "source": [
    "Q6. Write a python program to find palindromes in the given list of strings using lambda and filter\n",
    "function.\n",
    "['python', 'php', 'aba', 'radar', 'level']"
   ]
  },
  {
   "cell_type": "markdown",
   "id": "ad332eba-8bc2-4be0-979b-508e76762bbd",
   "metadata": {},
   "source": [
    "Ans-"
   ]
  },
  {
   "cell_type": "code",
   "execution_count": 55,
   "id": "7b0392d3-15a5-410c-a2be-3dc2525b6f6a",
   "metadata": {},
   "outputs": [
    {
     "name": "stdout",
     "output_type": "stream",
     "text": [
      "['php', 'aba', 'radar', 'level']\n"
     ]
    }
   ],
   "source": [
    "string_list = ['python', 'php', 'aba', 'radar', 'level']\n",
    "\n",
    "get_palindrome =list(filter(lambda p:p==p[::-1],string_list))\n",
    "print(get_palindrome)"
   ]
  },
  {
   "cell_type": "code",
   "execution_count": null,
   "id": "e8c8ce90-41a9-45ce-bfd2-3827eb77198e",
   "metadata": {},
   "outputs": [],
   "source": [
    "\n"
   ]
  },
  {
   "cell_type": "code",
   "execution_count": 51,
   "id": "7da7c87d-920c-4fe8-adb5-71de08b33aa0",
   "metadata": {},
   "outputs": [
    {
     "name": "stdout",
     "output_type": "stream",
     "text": [
      "['aba', 'radar']\n"
     ]
    }
   ],
   "source": [
    "s= [\"python\", \"aba\" ,\"radar\"]\n",
    "get=list(filter(lambda s:s==s[::-1],s))\n",
    "print(get)"
   ]
  },
  {
   "cell_type": "code",
   "execution_count": null,
   "id": "ec210ad4-8d49-40a1-ae9b-9e508a39d74a",
   "metadata": {},
   "outputs": [],
   "source": []
  },
  {
   "cell_type": "code",
   "execution_count": null,
   "id": "0f14b772-0425-4ee2-b1e0-09bc4773a1f0",
   "metadata": {},
   "outputs": [],
   "source": []
  },
  {
   "cell_type": "code",
   "execution_count": null,
   "id": "d68e3415-9d28-40ee-8866-adcb3ecc2504",
   "metadata": {},
   "outputs": [],
   "source": []
  },
  {
   "cell_type": "code",
   "execution_count": null,
   "id": "47c78729-833d-4ee3-beb2-857a28c87460",
   "metadata": {},
   "outputs": [],
   "source": []
  }
 ],
 "metadata": {
  "kernelspec": {
   "display_name": "Python 3 (ipykernel)",
   "language": "python",
   "name": "python3"
  },
  "language_info": {
   "codemirror_mode": {
    "name": "ipython",
    "version": 3
   },
   "file_extension": ".py",
   "mimetype": "text/x-python",
   "name": "python",
   "nbconvert_exporter": "python",
   "pygments_lexer": "ipython3",
   "version": "3.10.8"
  }
 },
 "nbformat": 4,
 "nbformat_minor": 5
}
